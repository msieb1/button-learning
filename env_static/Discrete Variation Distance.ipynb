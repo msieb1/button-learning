{
 "cells": [
  {
   "cell_type": "code",
   "execution_count": 9,
   "metadata": {},
   "outputs": [],
   "source": [
    "import numpy as np\n",
    "import torch"
   ]
  },
  {
   "cell_type": "code",
   "execution_count": 33,
   "metadata": {},
   "outputs": [],
   "source": [
    "def hellinger_dist(As, Bs):\n",
    "     return torch.norm(torch.sqrt(As) - torch.sqrt(Bs), p=2, dim=1)"
   ]
  },
  {
   "cell_type": "code",
   "execution_count": 34,
   "metadata": {},
   "outputs": [],
   "source": [
    "def variation_dist(Xs, Ys):\n",
    "    dist_Xs = torch.norm(Xs[:-1] - Xs[1:], p=2, dim=1)\n",
    "    dist_Ys = torch.norm(Ys[:-1] - Ys[1:], p=2, dim=1)\n",
    "    \n",
    "    return torch.norm(dist_Xs - dist_Ys, p=2)"
   ]
  },
  {
   "cell_type": "code",
   "execution_count": 35,
   "metadata": {},
   "outputs": [],
   "source": [
    "Xs = torch.from_numpy(np.array([\n",
    "    [1/3, 1/3, 1/3],\n",
    "    [2/3, 0.5/3, 0.5/3],\n",
    "    [0.5/3, 2/3, 0.5/3]\n",
    "])).float()\n",
    "Ys = torch.ones(3, 3) / 3\n",
    "Zs = torch.from_numpy(np.array([\n",
    "    [1/3, 1/3, 1/3],\n",
    "    [0.5/3, 0.5/3, 2/3],\n",
    "    [0.5/3, 2/3, 0.5/3]\n",
    "])).float()"
   ]
  },
  {
   "cell_type": "code",
   "execution_count": 36,
   "metadata": {},
   "outputs": [
    {
     "name": "stdout",
     "output_type": "stream",
     "text": [
      "X-Y tensor(0.8165)\n",
      "X-Z tensor(0.)\n"
     ]
    }
   ],
   "source": [
    "print('X-Y', variation_dist(Xs, Ys))\n",
    "print('X-Z', variation_dist(Xs, Zs))"
   ]
  },
  {
   "cell_type": "code",
   "execution_count": 64,
   "metadata": {},
   "outputs": [],
   "source": [
    "emb = torch.from_numpy(np.random.rand(10, 3, 6))"
   ]
  },
  {
   "cell_type": "code",
   "execution_count": 65,
   "metadata": {},
   "outputs": [],
   "source": [
    "entropies = -torch.sum(emb * torch.log2(emb + 1e-6), dim=1)"
   ]
  },
  {
   "cell_type": "code",
   "execution_count": 67,
   "metadata": {},
   "outputs": [],
   "source": [
    "entropies_mean_samples = torch.mean(entropies, dim=0)\n",
    "entropies_var_samples = torch.mean(torch.pow(entropies - entropies_mean_samples.unsqueeze(0), 2), dim=0)\n",
    "entropies_var_samples_batch = torch.mean(entropies_var_samples)"
   ]
  },
  {
   "cell_type": "code",
   "execution_count": 60,
   "metadata": {},
   "outputs": [
    {
     "data": {
      "text/plain": [
       "tensor(0.0617, dtype=torch.float64)"
      ]
     },
     "execution_count": 60,
     "metadata": {},
     "output_type": "execute_result"
    }
   ],
   "source": [
    "entropies_var_samples_batch"
   ]
  }
 ],
 "metadata": {
  "kernelspec": {
   "display_name": "Python 3 (jacky)",
   "language": "python",
   "name": "jacky"
  },
  "language_info": {
   "codemirror_mode": {
    "name": "ipython",
    "version": 3
   },
   "file_extension": ".py",
   "mimetype": "text/x-python",
   "name": "python",
   "nbconvert_exporter": "python",
   "pygments_lexer": "ipython3",
   "version": "3.6.7"
  }
 },
 "nbformat": 4,
 "nbformat_minor": 2
}
